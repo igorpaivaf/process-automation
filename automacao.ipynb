{
 "cells": [
  {
   "attachments": {},
   "cell_type": "markdown",
   "metadata": {},
   "source": [
    "Importar Módulos"
   ]
  },
  {
   "cell_type": "code",
   "execution_count": null,
   "metadata": {},
   "outputs": [],
   "source": [
    "import pandas as pd\n",
    "import pathlib\n",
    "import win32com.client as win32"
   ]
  },
  {
   "attachments": {},
   "cell_type": "markdown",
   "metadata": {},
   "source": [
    "Ler os arquivos excel e realizar tratamento de dados"
   ]
  },
  {
   "cell_type": "code",
   "execution_count": null,
   "metadata": {},
   "outputs": [],
   "source": [
    "produtos_df = pd.read_csv('Contoso - Cadastro Produtos.csv', sep=';', decimal=',')\n",
    "emails_df = pd.read_excel('Contoso - Contatos.xlsx')\n",
    "vendas_df = pd.read_csv('Contoso - Vendas - 2017.csv', sep=';')\n",
    "lojas_df = pd.read_csv('Contoso - Lojas.csv', sep=';')\n",
    "\n",
    "vendas_df = vendas_df.merge(lojas_df, on='ID Loja')\n",
    "vendas_df = vendas_df.merge(produtos_df, on='ID Produto')\n",
    "vendas_df = vendas_df[['Data da Venda', 'ID Loja', 'ID Produto', 'Quantidade Vendida', 'Nome da Loja', 'Preco Unitario', 'Numero da Venda']]\n",
    "vendas_df['Preco Unitario'] = vendas_df[['Preco Unitario']].multiply(vendas_df['Quantidade Vendida'], axis='index')\n",
    "vendas_df.rename(columns={'Preco Unitario': 'Valor Total'}, inplace=True)\n",
    "vendas_df['Data da Venda'] = pd.to_datetime(vendas_df['Data da Venda'], format='%d/%m/%Y')\n",
    "display(vendas_df)"
   ]
  },
  {
   "attachments": {},
   "cell_type": "markdown",
   "metadata": {},
   "source": [
    "Coletar o último dia (Dia do Indicador)"
   ]
  },
  {
   "cell_type": "code",
   "execution_count": null,
   "metadata": {},
   "outputs": [],
   "source": [
    "dia_indicador = vendas_df['Data da Venda'].max()\n",
    "print(dia_indicador)\n",
    "print('{}/{}'.format(dia_indicador.day, dia_indicador.month))"
   ]
  },
  {
   "attachments": {},
   "cell_type": "markdown",
   "metadata": {},
   "source": [
    "Construir um dicionário que contém um Data Frame para cada loja"
   ]
  },
  {
   "cell_type": "code",
   "execution_count": null,
   "metadata": {},
   "outputs": [],
   "source": [
    "dicionario_lojas = {}\n",
    "for loja in lojas_df['Nome da Loja']:\n",
    "    dicionario_lojas[loja.strip()] = vendas_df.loc[vendas_df['Nome da Loja'] == loja, :]\n",
    "\n",
    "display(dicionario_lojas['Loja Contoso Fall City'])"
   ]
  },
  {
   "attachments": {},
   "cell_type": "markdown",
   "metadata": {},
   "source": [
    "Enviar os arquivos de cada loja para cada pasta de Backup"
   ]
  },
  {
   "cell_type": "code",
   "execution_count": null,
   "metadata": {},
   "outputs": [],
   "source": [
    "caminho_backup = pathlib.Path(r'Backup Arquivos Lojas')\n",
    "arquivos_pasta_backup = caminho_backup.iterdir()\n",
    "\n",
    "lista_nomes_backup = [arquivo.name.strip() for arquivo in arquivos_pasta_backup]\n",
    "\n",
    "for loja in dicionario_lojas:\n",
    "    if loja not in lista_nomes_backup:\n",
    "        nova_pasta = caminho_backup / loja\n",
    "        nova_pasta.mkdir()\n",
    "    \n",
    "    nome_arquivo = '{}_{}_{}.xlsx'.format(dia_indicador.month, dia_indicador.day, loja)\n",
    "    local_arquivo = caminho_backup / loja / nome_arquivo\n",
    "    \n",
    "    dicionario_lojas[loja].to_excel(local_arquivo)"
   ]
  },
  {
   "attachments": {},
   "cell_type": "markdown",
   "metadata": {},
   "source": [
    "Definindo todas as metas"
   ]
  },
  {
   "cell_type": "code",
   "execution_count": null,
   "metadata": {},
   "outputs": [],
   "source": [
    "meta_faturamento_dia = 1000\n",
    "meta_faturamento_ano = 1650000\n",
    "meta_qtdeprodutos_dia = 4\n",
    "meta_qtdeprodutos_ano = 120\n",
    "meta_ticketmedio_dia = 500\n",
    "meta_ticketmedio_ano = 500"
   ]
  },
  {
   "attachments": {},
   "cell_type": "markdown",
   "metadata": {},
   "source": [
    "Enviando os e-mails para cada loja com seu respectivo OnePage"
   ]
  },
  {
   "cell_type": "code",
   "execution_count": null,
   "metadata": {},
   "outputs": [],
   "source": [
    "for loja in dicionario_lojas:\n",
    "    vendas_loja = dicionario_lojas[loja]\n",
    "    vendas_loja_dia = vendas_loja.loc[vendas_loja['Data da Venda'] == dia_indicador, :]\n",
    "\n",
    "    #faturamento\n",
    "    faturamento_ano = vendas_loja['Valor Total'].sum()\n",
    "    faturamento_dia = vendas_loja_dia['Valor Total'].sum()\n",
    "\n",
    "    #diversidade de produtos\n",
    "    qtde_produtos_ano = len(vendas_loja['ID Produto'].unique())\n",
    "    qtde_produtos_dia = len(vendas_loja_dia['ID Produto'].unique())\n",
    "\n",
    "    #ticket médio\n",
    "    valor_venda = vendas_loja.groupby('Numero da Venda').sum(numeric_only=True)\n",
    "    ticket_medio_ano = valor_venda['Valor Total'].mean()\n",
    "    valor_venda_dia = vendas_loja_dia.groupby('Numero da Venda').sum(numeric_only=True)\n",
    "    ticket_medio_dia = valor_venda_dia['Valor Total'].mean()\n",
    "    \n",
    "    #Enviando e-mails\n",
    "    outlook = win32.Dispatch('outlook.application')\n",
    "\n",
    "    nome = emails_df.loc(emails_df['Nome da Loja'] == loja, 'Nome do Vendedor').values[0]\n",
    "    mail = outlook.CreateItem(0)\n",
    "    mail.To = emails_df.loc(emails_df['Nome da Loja'] == loja, 'Email da Loja').values[0]\n",
    "    mail.Subject = f'One Page Dia {dia_indicador.day}/{dia_indicador.month} - {loja}'\n",
    "\n",
    "    if faturamento_dia >= meta_faturamento_dia:\n",
    "        cor_fat_dia = 'green'\n",
    "    else:\n",
    "        cor_fat_dia = 'red'\n",
    "        \n",
    "    if faturamento_ano >= meta_faturamento_ano:\n",
    "        cor_fat_ano = 'green'\n",
    "    else:\n",
    "        cor_fat_ano = 'red'\n",
    "        \n",
    "    if qtde_produtos_dia >= meta_qtdeprodutos_dia:\n",
    "        cor_qtde_dia = 'green'\n",
    "    else:\n",
    "        cor_qtde_dia = 'red'\n",
    "        \n",
    "    if qtde_produtos_ano >= meta_qtdeprodutos_ano:\n",
    "        cor_qtde_ano = 'green'\n",
    "    else:\n",
    "        cor_qtde_ano = 'red'\n",
    "\n",
    "    if ticket_medio_dia >= meta_ticketmedio_dia:\n",
    "        cor_ticket_dia = 'green'\n",
    "    else:\n",
    "        cor_ticket_dia = 'red'\n",
    "\n",
    "    if ticket_medio_ano >= meta_ticketmedio_ano:\n",
    "        cor_ticket_ano = 'green'\n",
    "    else:\n",
    "        cor_ticket_ano = 'red'\n",
    "\n",
    "    mail.HTMLBody = f'''\n",
    "    <p>Bom dia, {nome}</p>\n",
    "\n",
    "    <p>O resultado de ontem ({dia_indicador.day}/{dia_indicador.month}) da {loja} foi: </p>\n",
    "\n",
    "    <table>\n",
    "        <tr>\n",
    "            <th>Indicador</th>\n",
    "            <th>Valor Dia</th>\n",
    "            <th>Meta Dia</th>\n",
    "            <th>Cenário Dia</th>\n",
    "        </tr>\n",
    "        <tr>\n",
    "            <td>Faturamento</td>\n",
    "            <td style=\"text-align: center\">R$ {faturamento_dia:.2f}</td>\n",
    "            <td style=\"text-align: center\">R$ {meta_faturamento_dia:.2f}</td>\n",
    "            <td style=\"text-align: center\">◙</td>\n",
    "        </tr>\n",
    "        <tr>\n",
    "            <td>Diversidade de Produtos</td>\n",
    "            <td style=\"text-align: center\">{qtde_produtos_dia}</td>\n",
    "            <td style=\"text-align: center\">{meta_qtdeprodutos_dia}</td>\n",
    "            <td style=\"text-align: center\">◙</td>\n",
    "        </tr>\n",
    "        <tr>\n",
    "            <td>Ticket Médio</td>\n",
    "            <td style=\"text-align: center\">R$ {ticket_medio_dia:.2f}</td>\n",
    "            <td style=\"text-align: center\">R$ {meta_ticketmedio_dia:.2f}</td>\n",
    "            <td style=\"text-align: center\">◙</td>\n",
    "        </tr>\n",
    "    </table>\n",
    "    <br>\n",
    "    <table>\n",
    "        <tr>\n",
    "            <th>Indicador</th>\n",
    "            <th>Valor ano</th>\n",
    "            <th>Meta ano</th>\n",
    "            <th>Cenário ano</th>\n",
    "        </tr>\n",
    "        <tr>\n",
    "            <td>Faturamento</td>\n",
    "            <td style=\"text-align: center\">R$ {faturamento_ano:.2f}</td>\n",
    "            <td style=\"text-align: center\">R$ {meta_faturamento_ano:.2f}</td>\n",
    "            <td style=\"text-align: center\">◙</td>\n",
    "        </tr>\n",
    "        <tr>\n",
    "            <td>Diversidade de Produtos</td>\n",
    "            <td style=\"text-align: center\">{qtde_produtos_ano}</td>\n",
    "            <td style=\"text-align: center\">{meta_qtdeprodutos_ano}</td>\n",
    "            <td style=\"text-align: center\">◙</td>\n",
    "        </tr>\n",
    "        <tr>\n",
    "            <td>Ticket Médio</td>\n",
    "            <td style=\"text-align: center\">R$ {ticket_medio_ano:.2f}</td>\n",
    "            <td style=\"text-align: center\">R$ {meta_ticketmedio_ano:.2f}</td>\n",
    "            <td style=\"text-align: center\">◙</td>\n",
    "        </tr>\n",
    "    </table>\n",
    "\n",
    "    <p>Segue em anexo a planilha com todos os dados para mais detalhes.</p>\n",
    "\n",
    "    <p>Qualquer dúvida estou à disposição.</p>\n",
    "    <p>Att., Igor</p>\n",
    "    '''\n",
    "\n",
    "    attachment = pathlib.Path.cwd() / caminho_backup / loja / f'{dia_indicador.month}_{dia_indicador.day}_{loja}.xlsx'\n",
    "    mail.Attachments.Add(str(attachment))\n",
    "\n",
    "    mail.Send()"
   ]
  },
  {
   "attachments": {},
   "cell_type": "markdown",
   "metadata": {},
   "source": [
    "Criando os arquivos de visão geral para serem enviados para a Diretoria "
   ]
  },
  {
   "cell_type": "code",
   "execution_count": null,
   "metadata": {},
   "outputs": [],
   "source": [
    "faturamento_lojas = vendas_df.groupby('Nome da Loja')[['Nome da Loja', 'Valor Total']].sum(numeric_only=True)\n",
    "faturamento_lojas_ano = faturamento_lojas.sort_values(by='Valor Total', ascending=False)\n",
    "display(faturamento_lojas_ano)\n",
    "\n",
    "nome_arquivo = '{}_{}_Ranking Anual.xlsx'.format(dia_indicador.month, dia_indicador.day, loja)\n",
    "faturamento_lojas_ano.to_excel(r'Backup Arquivos Lojas\\{}'.format(nome_arquivo))\n",
    "\n",
    "vendas_dia = vendas_df.loc[vendas_df['Data da Venda'] == dia_indicador, :]\n",
    "faturamento_lojas_dia = vendas_dia.groupby('Nome da Loja')[['Nome da Loja', 'Valor Total']].sum(numeric_only=True)\n",
    "faturamento_lojas_dia = faturamento_lojas_dia.sort_values(by='Valor Total', ascending=False)\n",
    "display(faturamento_lojas_dia)\n",
    "\n",
    "nome_arquivo = '{}_{}_Ranking Dia.xlsx'.format(dia_indicador.month, dia_indicador.day, loja)\n",
    "faturamento_lojas_dia.to_excel(r'Backup Arquivos Lojas\\{}'.format(nome_arquivo))"
   ]
  },
  {
   "attachments": {},
   "cell_type": "markdown",
   "metadata": {},
   "source": [
    "Enviando e-mail de visão geral para a Diretoria"
   ]
  },
  {
   "cell_type": "code",
   "execution_count": null,
   "metadata": {},
   "outputs": [],
   "source": [
    "#Enviar e-mail para Diretoria\n",
    "outlook = win32.Dispatch('outlook.application')\n",
    "\n",
    "mail = outlook.CreateItem(0)\n",
    "mail.To = emails_df.loc(emails_df['Nome da Loja'] == 'Diretoria', 'Email da Loja').values[0]\n",
    "mail.Subject = f'Ranking Dia {dia_indicador.day}/{dia_indicador.month}'\n",
    "mail.Body = f'''\n",
    "Prezados, bom dia\n",
    "\n",
    "Melhor loja do Dia em Faturamento: Loja {faturamento_lojas_dia.index[0]} com Faturamento R$ {faturamento_lojas_dia.iloc[0, 0]:.2f}.\n",
    "Pior loja do Dia em Faturamento: Loja {faturamento_lojas_dia.index[-1]} com Faturamento R$ {faturamento_lojas_dia.iloc[-1, 0]:.2f}.\n",
    "\n",
    "Melhor loja do Ano em Faturamento: Loja {faturamento_lojas_ano.index[0]} com Faturamento R$ {faturamento_lojas_ano.iloc[0, 0]:.2f}\n",
    "Pior loja do Ano em Faturamento: Loja {faturamento_lojas_ano.index[-1]} com Faturamento R$ {faturamento_lojas_dia.iloc[-1, 0]:.2f}.\n",
    "\n",
    "Segue em anexo os rankings do ano e do dia de todas as lojas.\n",
    "\n",
    "Qualquer dúvida estou à disposição.\n",
    "\n",
    "Att.,\n",
    "Igor\n",
    "'''\n",
    "\n",
    "attachment = pathlib.Path.cwd() / caminho_backup / f'{dia_indicador.month}_{dia_indicador.day}_Ranking Anual.xlsx'\n",
    "mail.Attachments.Add(str(attachment))\n",
    "attachment = pathlib.Path.cwd() / caminho_backup / f'{dia_indicador.month}_{dia_indicador.day}_Ranking Dia.xlsx'\n",
    "mail.Attachments.Add(str(attachment))\n",
    "\n",
    "mail.Send()"
   ]
  }
 ],
 "metadata": {
  "kernelspec": {
   "display_name": "Python 3",
   "language": "python",
   "name": "python3"
  },
  "language_info": {
   "codemirror_mode": {
    "name": "ipython",
    "version": 3
   },
   "file_extension": ".py",
   "mimetype": "text/x-python",
   "name": "python",
   "nbconvert_exporter": "python",
   "pygments_lexer": "ipython3",
   "version": "3.10.5"
  },
  "orig_nbformat": 4,
  "vscode": {
   "interpreter": {
    "hash": "8743b28cd03cabdedeb39d267bc6f34b73ef2136d9004f5519cd65e6b89ffc22"
   }
  }
 },
 "nbformat": 4,
 "nbformat_minor": 2
}
